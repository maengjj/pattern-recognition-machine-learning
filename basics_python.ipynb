{
  "nbformat": 4,
  "nbformat_minor": 0,
  "metadata": {
    "colab": {
      "provenance": [],
      "authorship_tag": "ABX9TyO8NKuNZSMIcn0zEWkUbqGI",
      "include_colab_link": true
    },
    "kernelspec": {
      "name": "python3",
      "display_name": "Python 3"
    },
    "language_info": {
      "name": "python"
    }
  },
  "cells": [
    {
      "cell_type": "markdown",
      "metadata": {
        "id": "view-in-github",
        "colab_type": "text"
      },
      "source": [
        "<a href=\"https://colab.research.google.com/github/hail-members/pattern-recognition-machine-learning/blob/main/basics_python.ipynb\" target=\"_parent\"><img src=\"https://colab.research.google.com/assets/colab-badge.svg\" alt=\"Open In Colab\"/></a>"
      ]
    },
    {
      "cell_type": "code",
      "execution_count": null,
      "metadata": {
        "id": "vxHWgp-YXkjX"
      },
      "outputs": [],
      "source": [
        "a = 30\n",
        "b = 3.14\n",
        "c = 'A'\n",
        "d = ['K', 'O', 'R', 'E', 'A', '\\0']"
      ]
    },
    {
      "cell_type": "code",
      "source": [
        "print(a)\n",
        "print(b)\n",
        "print(c)\n",
        "print(d)"
      ],
      "metadata": {
        "colab": {
          "base_uri": "https://localhost:8080/"
        },
        "id": "iVmIWlzQbjQT",
        "outputId": "8cc37fed-3c11-4850-e42b-07dfdc69c970"
      },
      "execution_count": null,
      "outputs": [
        {
          "output_type": "stream",
          "name": "stdout",
          "text": [
            "30\n",
            "3.14\n",
            "A\n",
            "['K', 'O', 'R', 'E', 'A', '\\x00']\n"
          ]
        }
      ]
    },
    {
      "cell_type": "code",
      "source": [
        "# print type of everything\n",
        "print(type(a))\n",
        "print(type(b))\n",
        "print(type(c))\n",
        "print(type(d))"
      ],
      "metadata": {
        "colab": {
          "base_uri": "https://localhost:8080/",
          "height": 216
        },
        "id": "8TlqnQsCbmaO",
        "outputId": "d5fb575e-3272-4ada-f568-5403fe3c05ce"
      },
      "execution_count": null,
      "outputs": [
        {
          "output_type": "error",
          "ename": "NameError",
          "evalue": "name 'a' is not defined",
          "traceback": [
            "\u001b[0;31m---------------------------------------------------------------------------\u001b[0m",
            "\u001b[0;31mNameError\u001b[0m                                 Traceback (most recent call last)",
            "\u001b[0;32m<ipython-input-1-166c633aa10d>\u001b[0m in \u001b[0;36m<cell line: 2>\u001b[0;34m()\u001b[0m\n\u001b[1;32m      1\u001b[0m \u001b[0;31m# print type of everything\u001b[0m\u001b[0;34m\u001b[0m\u001b[0;34m\u001b[0m\u001b[0m\n\u001b[0;32m----> 2\u001b[0;31m \u001b[0mprint\u001b[0m\u001b[0;34m(\u001b[0m\u001b[0mtype\u001b[0m\u001b[0;34m(\u001b[0m\u001b[0ma\u001b[0m\u001b[0;34m)\u001b[0m\u001b[0;34m)\u001b[0m\u001b[0;34m\u001b[0m\u001b[0;34m\u001b[0m\u001b[0m\n\u001b[0m\u001b[1;32m      3\u001b[0m \u001b[0mprint\u001b[0m\u001b[0;34m(\u001b[0m\u001b[0mtype\u001b[0m\u001b[0;34m(\u001b[0m\u001b[0mb\u001b[0m\u001b[0;34m)\u001b[0m\u001b[0;34m)\u001b[0m\u001b[0;34m\u001b[0m\u001b[0;34m\u001b[0m\u001b[0m\n\u001b[1;32m      4\u001b[0m \u001b[0mprint\u001b[0m\u001b[0;34m(\u001b[0m\u001b[0mtype\u001b[0m\u001b[0;34m(\u001b[0m\u001b[0mc\u001b[0m\u001b[0;34m)\u001b[0m\u001b[0;34m)\u001b[0m\u001b[0;34m\u001b[0m\u001b[0;34m\u001b[0m\u001b[0m\n\u001b[1;32m      5\u001b[0m \u001b[0mprint\u001b[0m\u001b[0;34m(\u001b[0m\u001b[0mtype\u001b[0m\u001b[0;34m(\u001b[0m\u001b[0md\u001b[0m\u001b[0;34m)\u001b[0m\u001b[0;34m)\u001b[0m\u001b[0;34m\u001b[0m\u001b[0;34m\u001b[0m\u001b[0m\n",
            "\u001b[0;31mNameError\u001b[0m: name 'a' is not defined"
          ]
        }
      ]
    },
    {
      "cell_type": "markdown",
      "source": [
        "주소에 따른 차이\n"
      ],
      "metadata": {
        "id": "J_Edo3IhfPjr"
      }
    },
    {
      "cell_type": "code",
      "source": [
        "# 리스트 객체를 생성하고 b 변수에 할당합니다.\n",
        "b = [1, 2, 3]\n",
        "\n",
        "# a 변수에 b 변수를 할당합니다.\n",
        "# 이제 a와 b는 메모리 상에서 같은 리스트 객체를 가리키게 됩니다.\n",
        "a = b\n",
        "\n",
        "# a를 통해 리스트의 첫 번째 요소를 변경합니다.\n",
        "a[0] = 4\n",
        "\n",
        "# b의 내용을 출력합니다.\n",
        "print(b)\n"
      ],
      "metadata": {
        "colab": {
          "base_uri": "https://localhost:8080/"
        },
        "id": "Tx47Dg2vbr__",
        "outputId": "3b45876b-f98c-46de-e3b4-18a15127f372"
      },
      "execution_count": null,
      "outputs": [
        {
          "output_type": "stream",
          "name": "stdout",
          "text": [
            "[4, 2, 3]\n"
          ]
        }
      ]
    },
    {
      "cell_type": "code",
      "source": [
        "from copy import deepcopy\n",
        "\n",
        "# 리스트 객체를 생성하고 b 변수에 할당합니다.\n",
        "b = [1, 2, 3]\n",
        "\n",
        "# a 변수에 b 변수를 할당합니다.\n",
        "# 이제 a와 b는 메모리 상에서 같은 리스트 객체를 가리키게 됩니다.\n",
        "a = deepcopy(b)\n",
        "\n",
        "# a를 통해 리스트의 첫 번째 요소를 변경합니다.\n",
        "a[0] = 4\n",
        "\n",
        "# b의 내용을 출력합니다.\n",
        "print(b)\n",
        "\n",
        "print(a)"
      ],
      "metadata": {
        "id": "p2Ulikg-fRoj",
        "colab": {
          "base_uri": "https://localhost:8080/"
        },
        "outputId": "f136034d-e709-4753-e6b2-e6d8db57003a"
      },
      "execution_count": 4,
      "outputs": [
        {
          "output_type": "stream",
          "name": "stdout",
          "text": [
            "[1, 2, 3]\n",
            "[4, 2, 3]\n"
          ]
        }
      ]
    },
    {
      "cell_type": "code",
      "source": [],
      "metadata": {
        "id": "kABviK7VyfdN"
      },
      "execution_count": null,
      "outputs": []
    }
  ]
}