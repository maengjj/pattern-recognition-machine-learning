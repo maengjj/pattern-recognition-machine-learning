{
  "nbformat": 4,
  "nbformat_minor": 0,
  "metadata": {
    "colab": {
      "provenance": [],
      "include_colab_link": true
    },
    "kernelspec": {
      "name": "python3",
      "display_name": "Python 3"
    },
    "language_info": {
      "name": "python"
    }
  },
  "cells": [
    {
      "cell_type": "markdown",
      "metadata": {
        "id": "view-in-github",
        "colab_type": "text"
      },
      "source": [
        "<a href=\"https://colab.research.google.com/github/hail-members/pattern-recognition-machine-learning/blob/main/2_linear_regression.ipynb\" target=\"_parent\"><img src=\"https://colab.research.google.com/assets/colab-badge.svg\" alt=\"Open In Colab\"/></a>"
      ]
    },
    {
      "cell_type": "markdown",
      "source": [
        "이게 인종차별적인 데이터를 포함하고 있다는 이유로 이후 버전에서는 삭제되었습니다."
      ],
      "metadata": {
        "id": "cuGW0oZToBqu"
      }
    },
    {
      "cell_type": "code",
      "source": [
        "!pip install scikit-learn==1.1"
      ],
      "metadata": {
        "id": "ph1Omzp3mNMp",
        "outputId": "086c4a0b-6251-4dc9-a623-99770944f182",
        "colab": {
          "base_uri": "https://localhost:8080/"
        }
      },
      "execution_count": 1,
      "outputs": [
        {
          "output_type": "stream",
          "name": "stdout",
          "text": [
            "Collecting scikit-learn==1.1\n",
            "  Downloading scikit_learn-1.1.0-cp310-cp310-manylinux_2_17_x86_64.manylinux2014_x86_64.whl (30.7 MB)\n",
            "\u001b[2K     \u001b[90m━━━━━━━━━━━━━━━━━━━━━━━━━━━━━━━━━━━━━━━━\u001b[0m \u001b[32m30.7/30.7 MB\u001b[0m \u001b[31m29.6 MB/s\u001b[0m eta \u001b[36m0:00:00\u001b[0m\n",
            "\u001b[?25hRequirement already satisfied: numpy>=1.17.3 in /usr/local/lib/python3.10/dist-packages (from scikit-learn==1.1) (1.25.2)\n",
            "Requirement already satisfied: scipy>=1.3.2 in /usr/local/lib/python3.10/dist-packages (from scikit-learn==1.1) (1.11.4)\n",
            "Requirement already satisfied: joblib>=1.0.0 in /usr/local/lib/python3.10/dist-packages (from scikit-learn==1.1) (1.3.2)\n",
            "Requirement already satisfied: threadpoolctl>=2.0.0 in /usr/local/lib/python3.10/dist-packages (from scikit-learn==1.1) (3.3.0)\n",
            "Installing collected packages: scikit-learn\n",
            "  Attempting uninstall: scikit-learn\n",
            "    Found existing installation: scikit-learn 1.2.2\n",
            "    Uninstalling scikit-learn-1.2.2:\n",
            "      Successfully uninstalled scikit-learn-1.2.2\n",
            "\u001b[31mERROR: pip's dependency resolver does not currently take into account all the packages that are installed. This behaviour is the source of the following dependency conflicts.\n",
            "bigframes 0.24.0 requires scikit-learn>=1.2.2, but you have scikit-learn 1.1.0 which is incompatible.\u001b[0m\u001b[31m\n",
            "\u001b[0mSuccessfully installed scikit-learn-1.1.0\n"
          ]
        }
      ]
    },
    {
      "cell_type": "code",
      "source": [
        "# import required\n",
        "from sklearn.datasets import load_boston\n",
        "from sklearn.model_selection import train_test_split\n",
        "from sklearn.linear_model import LinearRegression\n",
        "import numpy as np\n",
        "import matplotlib.pyplot as plt\n"
      ],
      "metadata": {
        "id": "xzGIu87pnw7T"
      },
      "execution_count": 2,
      "outputs": []
    },
    {
      "cell_type": "markdown",
      "source": [
        "우리가 수업시간에 봤던 예시와 유사하게 이번엔 보스턴 집값에 대해서"
      ],
      "metadata": {
        "id": "MWggmroBn3g2"
      }
    },
    {
      "cell_type": "code",
      "source": [
        "# 보스턴 주택 가격 데이터 로드\n",
        "boston = load_boston()\n",
        "X_boston = boston.data\n",
        "y_boston = boston.target\n",
        "\n",
        "# 데이터 설명 출력\n",
        "# print(boston.DESCR[:760])  # 데이터셋 설명의 일부 출력\n",
        "print(boston.DESCR)"
      ],
      "metadata": {
        "id": "bYxDWldnn2UP",
        "outputId": "4fe0a961-5b9e-4b55-d266-af49e157aa05",
        "colab": {
          "base_uri": "https://localhost:8080/"
        }
      },
      "execution_count": 3,
      "outputs": [
        {
          "output_type": "stream",
          "name": "stdout",
          "text": [
            ".. _boston_dataset:\n",
            "\n",
            "Boston house prices dataset\n",
            "---------------------------\n",
            "\n",
            "**Data Set Characteristics:**  \n",
            "\n",
            "    :Number of Instances: 506 \n",
            "\n",
            "    :Number of Attributes: 13 numeric/categorical predictive. Median Value (attribute 14) is usually the target.\n",
            "\n",
            "    :Attribute Information (in order):\n",
            "        - CRIM     per capita crime rate by town\n",
            "        - ZN       proportion of residential land zoned for lots over 25,000 sq.ft.\n",
            "        - INDUS    proportion of non-retail business acres per town\n",
            "        - CHAS     Charles River dummy variable (= 1 if tract bounds river; 0 otherwise)\n",
            "        - NOX      nitric oxides concentration (parts per 10 million)\n",
            "        - RM       average number of rooms per dwelling\n",
            "        - AGE      proportion of owner-occupied units built prior to 1940\n",
            "        - DIS      weighted distances to five Boston employment centres\n",
            "        - RAD      index of accessibility to radial highways\n",
            "        - TAX      full-value property-tax rate per $10,000\n",
            "        - PTRATIO  pupil-teacher ratio by town\n",
            "        - B        1000(Bk - 0.63)^2 where Bk is the proportion of black people by town\n",
            "        - LSTAT    % lower status of the population\n",
            "        - MEDV     Median value of owner-occupied homes in $1000's\n",
            "\n",
            "    :Missing Attribute Values: None\n",
            "\n",
            "    :Creator: Harrison, D. and Rubinfeld, D.L.\n",
            "\n",
            "This is a copy of UCI ML housing dataset.\n",
            "https://archive.ics.uci.edu/ml/machine-learning-databases/housing/\n",
            "\n",
            "\n",
            "This dataset was taken from the StatLib library which is maintained at Carnegie Mellon University.\n",
            "\n",
            "The Boston house-price data of Harrison, D. and Rubinfeld, D.L. 'Hedonic\n",
            "prices and the demand for clean air', J. Environ. Economics & Management,\n",
            "vol.5, 81-102, 1978.   Used in Belsley, Kuh & Welsch, 'Regression diagnostics\n",
            "...', Wiley, 1980.   N.B. Various transformations are used in the table on\n",
            "pages 244-261 of the latter.\n",
            "\n",
            "The Boston house-price data has been used in many machine learning papers that address regression\n",
            "problems.   \n",
            "     \n",
            ".. topic:: References\n",
            "\n",
            "   - Belsley, Kuh & Welsch, 'Regression diagnostics: Identifying Influential Data and Sources of Collinearity', Wiley, 1980. 244-261.\n",
            "   - Quinlan,R. (1993). Combining Instance-Based and Model-Based Learning. In Proceedings on the Tenth International Conference of Machine Learning, 236-243, University of Massachusetts, Amherst. Morgan Kaufmann.\n",
            "\n"
          ]
        },
        {
          "output_type": "stream",
          "name": "stderr",
          "text": [
            "/usr/local/lib/python3.10/dist-packages/sklearn/utils/deprecation.py:87: FutureWarning: Function load_boston is deprecated; `load_boston` is deprecated in 1.0 and will be removed in 1.2.\n",
            "\n",
            "    The Boston housing prices dataset has an ethical problem. You can refer to\n",
            "    the documentation of this function for further details.\n",
            "\n",
            "    The scikit-learn maintainers therefore strongly discourage the use of this\n",
            "    dataset unless the purpose of the code is to study and educate about\n",
            "    ethical issues in data science and machine learning.\n",
            "\n",
            "    In this special case, you can fetch the dataset from the original\n",
            "    source::\n",
            "\n",
            "        import pandas as pd\n",
            "        import numpy as np\n",
            "\n",
            "        data_url = \"http://lib.stat.cmu.edu/datasets/boston\"\n",
            "        raw_df = pd.read_csv(data_url, sep=\"\\s+\", skiprows=22, header=None)\n",
            "        data = np.hstack([raw_df.values[::2, :], raw_df.values[1::2, :2]])\n",
            "        target = raw_df.values[1::2, 2]\n",
            "\n",
            "    Alternative datasets include the California housing dataset (i.e.\n",
            "    :func:`~sklearn.datasets.fetch_california_housing`) and the Ames housing\n",
            "    dataset. You can load the datasets as follows::\n",
            "\n",
            "        from sklearn.datasets import fetch_california_housing\n",
            "        housing = fetch_california_housing()\n",
            "\n",
            "    for the California housing dataset and::\n",
            "\n",
            "        from sklearn.datasets import fetch_openml\n",
            "        housing = fetch_openml(name=\"house_prices\", as_frame=True)\n",
            "\n",
            "    for the Ames housing dataset.\n",
            "  warnings.warn(msg, category=FutureWarning)\n"
          ]
        }
      ]
    },
    {
      "cell_type": "code",
      "source": [
        "X_boston.shape"
      ],
      "metadata": {
        "id": "b9quNyRtpz90",
        "outputId": "a56d34ad-0f7d-4e5f-afe4-9d501edd5d87",
        "colab": {
          "base_uri": "https://localhost:8080/"
        }
      },
      "execution_count": 4,
      "outputs": [
        {
          "output_type": "execute_result",
          "data": {
            "text/plain": [
              "(506, 13)"
            ]
          },
          "metadata": {},
          "execution_count": 4
        }
      ]
    },
    {
      "cell_type": "markdown",
      "source": [
        "데이터 크기를 보면 13개의 feature를 갖고 있는 데이터인데.. 실제로 우리는 모델을 학습시켜서 뭘 하고 싶나요?\n",
        "\n",
        "회귀 모델을 학습 시켜서 새로운 데이터가 온다면 그 데이터를 기반으로 예측을 하는게 목표입니다.\n",
        "\n",
        "이때 학습에 쓰이는 건 training 데이터, 새롭게 들어와서 우리가 에측을 하기 위한 데이터를 test 데이터라고 부릅니다.\n",
        "\n",
        "이를 자동으로 나누기 위해서 sklearn의 train_test_split 함수를 이용합니다."
      ],
      "metadata": {
        "id": "dNlSfJpRp-U8"
      }
    },
    {
      "cell_type": "markdown",
      "source": [
        "https://scikit-learn.org/stable/modules/generated/sklearn.model_selection.train_test_split.html"
      ],
      "metadata": {
        "id": "rrX3YD_KpvDb"
      }
    },
    {
      "cell_type": "markdown",
      "source": [
        "# 만약 feature 가 한 개 라면?\n",
        "\n",
        "\n"
      ],
      "metadata": {
        "id": "BSzjVwdqgAJS"
      }
    },
    {
      "cell_type": "code",
      "source": [
        "X_train, X_test, y_train, y_test = train_test_split(X_boston[:,0], y_boston, test_size=0.2, random_state=42)\n",
        "\n",
        "X_train = X_train.reshape(-1,1)\n",
        "X_test = X_test.reshape(-1,1)\n",
        "\n",
        "print(\"X_train\", X_train.shape)\n",
        "print(\"X_test\", X_test.shape)"
      ],
      "metadata": {
        "id": "ULeH3iGvgJNO",
        "outputId": "7cf49b62-04fd-487b-cbcd-9c5327108adf",
        "colab": {
          "base_uri": "https://localhost:8080/"
        }
      },
      "execution_count": 5,
      "outputs": [
        {
          "output_type": "stream",
          "name": "stdout",
          "text": [
            "X_train (404, 1)\n",
            "X_test (102, 1)\n"
          ]
        }
      ]
    },
    {
      "cell_type": "code",
      "source": [
        "lin_reg = LinearRegression()\n",
        "lin_reg.fit(X_train, y_train)\n",
        "\n",
        "# 훈련 세트와 테스트 세트에 대한 모델 성능 평가\n",
        "train_score = lin_reg.score(X_train, y_train)\n",
        "test_score = lin_reg.score(X_test, y_test)\n",
        "\n",
        "train_score, test_score\n"
      ],
      "metadata": {
        "id": "FdyPiwtZhgme",
        "outputId": "47a3b288-1e02-4436-9a11-81384be796ef",
        "colab": {
          "base_uri": "https://localhost:8080/"
        }
      },
      "execution_count": 6,
      "outputs": [
        {
          "output_type": "execute_result",
          "data": {
            "text/plain": [
              "(0.14446921351610564, 0.15872146782902874)"
            ]
          },
          "metadata": {},
          "execution_count": 6
        }
      ]
    },
    {
      "cell_type": "code",
      "source": [
        "lin_reg.coef_.shape"
      ],
      "metadata": {
        "id": "0Zj6GuH8h8fL",
        "outputId": "8b27709b-ea7f-4f1f-aaef-c14c93ffc95d",
        "colab": {
          "base_uri": "https://localhost:8080/"
        }
      },
      "execution_count": 7,
      "outputs": [
        {
          "output_type": "execute_result",
          "data": {
            "text/plain": [
              "(1,)"
            ]
          },
          "metadata": {},
          "execution_count": 7
        }
      ]
    },
    {
      "cell_type": "markdown",
      "source": [
        "하나 적지 않나?\n",
        "\n",
        "$y=\\theta_0 + \\theta_1 \\cdot x_1$ 인데...\n",
        "\n",
        "여기서 `lin_reg.coef_` 는 $\\theta_1$, $\\theta_0$ 를 얻고 싶다면 `lin_reg.intercept_`를 써야함"
      ],
      "metadata": {
        "id": "320h4X8eifaP"
      }
    },
    {
      "cell_type": "code",
      "source": [
        "print('coef', lin_reg.coef_)\n",
        "print('intercept', lin_reg.intercept_)"
      ],
      "metadata": {
        "id": "Jy2p1UI1i4ND",
        "outputId": "c6fdea4c-d2c8-4ea4-d326-a353687352b1",
        "colab": {
          "base_uri": "https://localhost:8080/"
        }
      },
      "execution_count": 8,
      "outputs": [
        {
          "output_type": "stream",
          "name": "stdout",
          "text": [
            "coef [-0.39966675]\n",
            "intercept 24.238981774011265\n"
          ]
        }
      ]
    },
    {
      "cell_type": "code",
      "source": [
        "%matplotlib inline\n",
        "\n",
        "# Plot the training data\n",
        "plt.scatter(X_train, y_train, label=\"Training data\")\n",
        "\n",
        "# Plot the fitted line\n",
        "plt.plot(X_train, lin_reg.predict(X_train), color=\"red\", label=\"Fitted line\")\n",
        "\n",
        "# Add labels and title\n",
        "plt.xlabel(\"X_train\")\n",
        "plt.ylabel(\"y_train\")"
      ],
      "metadata": {
        "id": "shyhIUwdhBdC",
        "outputId": "8e27ac09-92d6-4b3a-e60d-61c59c8380bb",
        "colab": {
          "base_uri": "https://localhost:8080/",
          "height": 467
        }
      },
      "execution_count": 9,
      "outputs": [
        {
          "output_type": "execute_result",
          "data": {
            "text/plain": [
              "Text(0, 0.5, 'y_train')"
            ]
          },
          "metadata": {},
          "execution_count": 9
        },
        {
          "output_type": "display_data",
          "data": {
            "text/plain": [
              "<Figure size 640x480 with 1 Axes>"
            ],
            "image/png": "[encoded data removed]"
          },
          "metadata": {}
        }
      ]
    },
    {
      "cell_type": "markdown",
      "source": [
        "# 모든 feature 를 사용하는 경우."
      ],
      "metadata": {
        "id": "14rjPUSggKT-"
      }
    },
    {
      "cell_type": "code",
      "source": [
        "# 데이터를 훈련 세트와 테스트 세트로 분할\n",
        "X_train, X_test, y_train, y_test = train_test_split(X_boston, y_boston, test_size=0.2, random_state=42)\n",
        "\n",
        "print(\"X_train\", X_train.shape)\n",
        "print(\"X_test\", X_test.shape)"
      ],
      "metadata": {
        "id": "3G6MKJU9qd1M",
        "outputId": "125b9e8d-3d3c-4ec6-fff4-dff37278a3e5",
        "colab": {
          "base_uri": "https://localhost:8080/"
        }
      },
      "execution_count": 10,
      "outputs": [
        {
          "output_type": "stream",
          "name": "stdout",
          "text": [
            "X_train (404, 13)\n",
            "X_test (102, 13)\n"
          ]
        }
      ]
    },
    {
      "cell_type": "code",
      "execution_count": 11,
      "metadata": {
        "id": "80SzPMwVwThD",
        "outputId": "6de68645-6b2b-4763-ab97-80b5ffcac835",
        "colab": {
          "base_uri": "https://localhost:8080/"
        }
      },
      "outputs": [
        {
          "output_type": "execute_result",
          "data": {
            "text/plain": [
              "(0.7508856358979673, 0.6687594935356325)"
            ]
          },
          "metadata": {},
          "execution_count": 11
        }
      ],
      "source": [
        "# 선형 회귀 모델 훈련\n",
        "lin_reg = LinearRegression()\n",
        "lin_reg.fit(X_train, y_train)\n",
        "\n",
        "# 훈련 세트와 테스트 세트에 대한 모델 성능 평가\n",
        "train_score = lin_reg.score(X_train, y_train)\n",
        "test_score = lin_reg.score(X_test, y_test)\n",
        "\n",
        "train_score, test_score\n"
      ]
    },
    {
      "cell_type": "code",
      "source": [
        "lin_reg.coef_.shape"
      ],
      "metadata": {
        "id": "c_mPx4uOmZk4",
        "outputId": "dfe740f1-d1b4-48af-88d2-ef2809933b65",
        "colab": {
          "base_uri": "https://localhost:8080/"
        }
      },
      "execution_count": 12,
      "outputs": [
        {
          "output_type": "execute_result",
          "data": {
            "text/plain": [
              "(13,)"
            ]
          },
          "metadata": {},
          "execution_count": 12
        }
      ]
    },
    {
      "cell_type": "markdown",
      "source": [
        "앞에서 말한것처럼 intercept 는 별도로 추출해야"
      ],
      "metadata": {
        "id": "8HhxMvfutFkn"
      }
    },
    {
      "cell_type": "code",
      "source": [
        "lin_reg.intercept_"
      ],
      "metadata": {
        "id": "LI6UizactRel",
        "outputId": "918cea4b-90df-42e6-dde7-237a3839349e",
        "colab": {
          "base_uri": "https://localhost:8080/"
        }
      },
      "execution_count": 13,
      "outputs": [
        {
          "output_type": "execute_result",
          "data": {
            "text/plain": [
              "30.246750993923776"
            ]
          },
          "metadata": {},
          "execution_count": 13
        }
      ]
    }
  ]
}