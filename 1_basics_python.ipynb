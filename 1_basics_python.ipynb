{
  "nbformat": 4,
  "nbformat_minor": 0,
  "metadata": {
    "colab": {
      "provenance": [],
      "include_colab_link": true
    },
    "kernelspec": {
      "name": "python3",
      "display_name": "Python 3"
    },
    "language_info": {
      "name": "python"
    }
  },
  "cells": [
    {
      "cell_type": "markdown",
      "metadata": {
        "id": "view-in-github",
        "colab_type": "text"
      },
      "source": [
        "<a href=\"https://colab.research.google.com/github/hail-members/pattern-recognition-machine-learning/blob/main/1_basics_python.ipynb\" target=\"_parent\"><img src=\"https://colab.research.google.com/assets/colab-badge.svg\" alt=\"Open In Colab\"/></a>"
      ]
    },
    {
      "cell_type": "code",
      "execution_count": 1,
      "metadata": {
        "id": "vxHWgp-YXkjX"
      },
      "outputs": [],
      "source": [
        "a = 30\n",
        "b = 3.14\n",
        "c = 'A'\n",
        "d = ['K', 'O', 'R', 'E', 'A', '\\0']"
      ]
    },
    {
      "cell_type": "code",
      "source": [
        "print(a)\n",
        "print(b)\n",
        "print(c)\n",
        "print(d)"
      ],
      "metadata": {
        "colab": {
          "base_uri": "https://localhost:8080/"
        },
        "id": "iVmIWlzQbjQT",
        "outputId": "f67c37e7-c06f-428d-d0e9-82b28962416c"
      },
      "execution_count": 2,
      "outputs": [
        {
          "output_type": "stream",
          "name": "stdout",
          "text": [
            "30\n",
            "3.14\n",
            "A\n",
            "['K', 'O', 'R', 'E', 'A', '\\x00']\n"
          ]
        }
      ]
    },
    {
      "cell_type": "code",
      "source": [
        "# print type of everything\n",
        "print(type(a))\n",
        "print(type(b))\n",
        "print(type(c))\n",
        "print(type(d))"
      ],
      "metadata": {
        "colab": {
          "base_uri": "https://localhost:8080/"
        },
        "id": "8TlqnQsCbmaO",
        "outputId": "ca1d59cd-18d4-4a2a-8697-7f5d8bc9da3c"
      },
      "execution_count": 3,
      "outputs": [
        {
          "output_type": "stream",
          "name": "stdout",
          "text": [
            "<class 'int'>\n",
            "<class 'float'>\n",
            "<class 'str'>\n",
            "<class 'list'>\n"
          ]
        }
      ]
    },
    {
      "cell_type": "markdown",
      "source": [
        "주소에 따른 차이\n"
      ],
      "metadata": {
        "id": "J_Edo3IhfPjr"
      }
    },
    {
      "cell_type": "code",
      "source": [
        "# 리스트 객체를 생성하고 b 변수에 할당합니다.\n",
        "b = [1, 2, 3]\n",
        "\n",
        "# a 변수에 b 변수를 할당합니다.\n",
        "# 이제 a와 b는 메모리 상에서 같은 리스트 객체를 가리키게 됩니다.\n",
        "a = b\n",
        "\n",
        "# a를 통해 리스트의 첫 번째 요소를 변경합니다.\n",
        "a[0] = 4\n",
        "\n",
        "# b의 내용을 출력합니다.\n",
        "print(b)\n"
      ],
      "metadata": {
        "colab": {
          "base_uri": "https://localhost:8080/"
        },
        "id": "Tx47Dg2vbr__",
        "outputId": "8e592826-44d0-4de3-a7be-b53a55404429"
      },
      "execution_count": 4,
      "outputs": [
        {
          "output_type": "stream",
          "name": "stdout",
          "text": [
            "[4, 2, 3]\n"
          ]
        }
      ]
    },
    {
      "cell_type": "code",
      "source": [
        "from copy import deepcopy\n",
        "\n",
        "# 리스트 객체를 생성하고 b 변수에 할당합니다.\n",
        "b = [1, 2, 3]\n",
        "\n",
        "# a 변수에 b 변수를 할당합니다.\n",
        "# 이제 a와 b는 메모리 상에서 같은 리스트 객체를 가리키게 됩니다.\n",
        "a = deepcopy(b)\n",
        "\n",
        "# a를 통해 리스트의 첫 번째 요소를 변경합니다.\n",
        "a[0] = 4\n",
        "\n",
        "# b의 내용을 출력합니다.\n",
        "print(b)\n",
        "\n",
        "print(a)"
      ],
      "metadata": {
        "id": "p2Ulikg-fRoj",
        "colab": {
          "base_uri": "https://localhost:8080/"
        },
        "outputId": "387bde5a-2860-4c7e-e484-a924286ff39a"
      },
      "execution_count": 5,
      "outputs": [
        {
          "output_type": "stream",
          "name": "stdout",
          "text": [
            "[1, 2, 3]\n",
            "[4, 2, 3]\n"
          ]
        }
      ]
    }
  ]
}