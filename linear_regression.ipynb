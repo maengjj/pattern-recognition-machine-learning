{
  "nbformat": 4,
  "nbformat_minor": 0,
  "metadata": {
    "colab": {
      "provenance": [],
      "authorship_tag": "ABX9TyNgtM1vEyjQLadSxkCV6/gF",
      "include_colab_link": true
    },
    "kernelspec": {
      "name": "python3",
      "display_name": "Python 3"
    },
    "language_info": {
      "name": "python"
    }
  },
  "cells": [
    {
      "cell_type": "markdown",
      "metadata": {
        "id": "view-in-github",
        "colab_type": "text"
      },
      "source": [
        "<a href=\"https://colab.research.google.com/github/hail-members/pattern-recognition-machine-learning/blob/dev/linear_regression.ipynb\" target=\"_parent\"><img src=\"https://colab.research.google.com/assets/colab-badge.svg\" alt=\"Open In Colab\"/></a>"
      ]
    },
    {
      "cell_type": "code",
      "execution_count": null,
      "metadata": {
        "id": "80SzPMwVwThD"
      },
      "outputs": [],
      "source": [
        "from sklearn.datasets import load_boston\n",
        "from sklearn.model_selection import train_test_split\n",
        "from sklearn.linear_model import LinearRegression\n",
        "\n",
        "# 보스턴 주택 가격 데이터 로드\n",
        "boston = load_boston()\n",
        "X_boston = boston.data\n",
        "y_boston = boston.target\n",
        "\n",
        "# 데이터 설명 출력\n",
        "print(boston.DESCR[:760])  # 데이터셋 설명의 일부 출력\n",
        "\n",
        "# 데이터를 훈련 세트와 테스트 세트로 분할\n",
        "X_train, X_test, y_train, y_test = train_test_split(X_boston, y_boston, test_size=0.2, random_state=42)\n",
        "\n",
        "# 선형 회귀 모델 훈련\n",
        "lin_reg = LinearRegression()\n",
        "lin_reg.fit(X_train, y_train)\n",
        "\n",
        "# 훈련 세트와 테스트 세트에 대한 모델 성능 평가\n",
        "train_score = lin_reg.score(X_train, y_train)\n",
        "test_score = lin_reg.score(X_test, y_test)\n",
        "\n",
        "train_score, test_score\n"
      ]
    }
  ]
}